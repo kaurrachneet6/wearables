{
 "cells": [
  {
   "cell_type": "code",
   "execution_count": 1,
   "metadata": {},
   "outputs": [],
   "source": [
    "import pandas as pd\n",
    "import numpy as np\n",
    "from matplotlib import pyplot as plt\n",
    "import os"
   ]
  },
  {
   "cell_type": "code",
   "execution_count": 13,
   "metadata": {},
   "outputs": [],
   "source": [
    "sstimes = pd.read_csv(\"startstoptimes.csv\")\n",
    "sstimes[\"length\"] = sstimes[\"stop\"] - sstimes[\"start\"]\n",
    "sstimes[\"outliers\"] = sstimes[\"length\"] > 20\n",
    "sstimes[\"outliers\"].value_counts()\n",
    "sstimes.to_csv(\"outliers.csv\")"
   ]
  },
  {
   "cell_type": "code",
   "execution_count": 16,
   "metadata": {},
   "outputs": [
    {
     "name": "stdout",
     "output_type": "stream",
     "text": [
      "147\n",
      "0       True\n",
      "1       True\n",
      "2      False\n",
      "3      False\n",
      "4      False\n",
      "       ...  \n",
      "939    False\n",
      "940     True\n",
      "941     True\n",
      "942    False\n",
      "943    False\n",
      "Name: outliers, Length: 944, dtype: bool\n"
     ]
    }
   ],
   "source": [
    "indices = np.argwhere(sstimes[\"outliers\"].to_numpy())\n",
    "print(len(indices))\n",
    "print((sstimes[\"outliers\"]))\n"
   ]
  },
  {
   "cell_type": "code",
   "execution_count": 12,
   "metadata": {},
   "outputs": [
    {
     "data": {
      "text/plain": [
       "Unnamed: 0                      20\n",
       "subject       PDMotion_0025_Retest\n",
       "task                            PS\n",
       "sensor                     right_1\n",
       "start                      17.4625\n",
       "stop                        39.375\n",
       "length                     21.9125\n",
       "outliers                      True\n",
       "Name: 20, dtype: object"
      ]
     },
     "execution_count": 12,
     "metadata": {},
     "output_type": "execute_result"
    }
   ],
   "source": [
    "sstimes.iloc[20]"
   ]
  },
  {
   "cell_type": "code",
   "execution_count": null,
   "metadata": {},
   "outputs": [],
   "source": []
  }
 ],
 "metadata": {
  "interpreter": {
   "hash": "b129ed251326715a1adfb9e8fd7e67c8735bf4139ca929177f856618e25d5a57"
  },
  "kernelspec": {
   "display_name": "Python 3.7.10 64-bit ('base': conda)",
   "name": "python3"
  },
  "language_info": {
   "codemirror_mode": {
    "name": "ipython",
    "version": 3
   },
   "file_extension": ".py",
   "mimetype": "text/x-python",
   "name": "python",
   "nbconvert_exporter": "python",
   "pygments_lexer": "ipython3",
   "version": "3.7.10"
  },
  "orig_nbformat": 4
 },
 "nbformat": 4,
 "nbformat_minor": 2
}
