{
 "cells": [
  {
   "cell_type": "code",
   "execution_count": 1,
   "source": [
    "import pandas as pd\n",
    "import numpy as np\n",
    "from matplotlib import pyplot as plt\n",
    "import os"
   ],
   "outputs": [],
   "metadata": {}
  },
  {
   "cell_type": "code",
   "execution_count": 2,
   "source": [
    "dir='JHU-UIUC data analysis/data/'         # Replace with path to your directory: absolute or relative\n",
    "pattern = 'PDMotion_' # Replace with your target substring\n",
    "matching_files = [f for f in os.listdir(dir) if pattern in f]\n",
    "len(matching_files)\n",
    "print(matching_files)"
   ],
   "outputs": [
    {
     "output_type": "stream",
     "name": "stdout",
     "text": [
      "['PDMotion_0020_Test.xlsx', 'PDMotion_0025_Retest.xlsx', 'PDMotion_0001_Test.xlsx', 'PDMotion_0015_Test.xlsx', '~$PDMotion_0030_Test.xlsx', 'PDMotion_0030_Retest.xlsx', 'PDMotion_0018_Test.xlsx', 'PDMotion_0007_Test.xlsx', 'PDMotion_0013_Test.xlsx', 'PDMotion_0029_Retest.xlsx', 'PDMotion_0026_Test.xlsx', 'PDMotion_0020_Retest.xlsx', 'PDMotion_0021_Test.xlsx', 'PDMotion_0023_Retest.xlsx', 'PDMotion_0011_Retest.xlsx', 'PDMotion_0014_Test.xlsx', 'PDMotion_0019_Test.xlsx', 'PDMotion_0012_Test.xlsx', 'PDMotion_0001_Retest.xlsx', 'PDMotion_0006_Test.xlsx', 'PDMotion_0027_Test.xlsx', 'PDMotion_0026_Retest.xlsx', 'PDMotion_0014_Retest.xlsx', 'PDMotion_0003_Test.xlsx', 'PDMotion_0017_Test.xlsx', 'PDMotion_0022_Test.xlsx', 'PDMotion_0013_Retest.xlsx', 'PDMotion_0006_Retest.xlsx', 'PDMotion_0028_Retest.xlsx', 'PDMotion_0030_Test.xlsx', 'PDMotion_0003_Retest.xlsx', 'PDMotion_0024_Test.xlsx', 'PDMotion_0005_Test.xlsx', 'PDMotion_0011_Test.xlsx', 'PDMotion_0024_Retest.xlsx', 'PDMotion_0029_Test.xlsx', 'PDMotion_0014_Retest1.xlsx', 'PDMotion_0008_Test.xlsx', 'PDMotion_0002_Test.xlsx', 'PDMotion_0023_Test.xlsx', 'PDMotion_0027_Retest.xlsx', 'PDMotion_0019_Retest.xlsx', 'PDMotion_0025_Test.xlsx', 'PDMotion_0010_Test.xlsx', 'PDMotion_0004_Test.xlsx', 'PDMotion_0010_Retest.xlsx', 'PDMotion_0028_Test.xlsx', 'PDMotion_0022_Retest.xlsx', 'PDMotion_0009_Test.xlsx']\n"
     ]
    }
   ],
   "metadata": {}
  },
  {
   "cell_type": "code",
   "execution_count": 3,
   "source": [
    "data = []\n",
    "for file in matching_files:\n",
    "    sheet = pd.read_excel(dir+file, sheet_name=None)\n",
    "    data[file] = sheet"
   ],
   "outputs": [
    {
     "output_type": "error",
     "ename": "KeyboardInterrupt",
     "evalue": "",
     "traceback": [
      "\u001b[0;31m---------------------------------------------------------------------------\u001b[0m",
      "\u001b[0;31mKeyboardInterrupt\u001b[0m                         Traceback (most recent call last)",
      "\u001b[0;32m<ipython-input-3-36c0d14bde54>\u001b[0m in \u001b[0;36m<module>\u001b[0;34m\u001b[0m\n\u001b[1;32m      1\u001b[0m \u001b[0mdata\u001b[0m \u001b[0;34m=\u001b[0m \u001b[0;34m{\u001b[0m\u001b[0;34m}\u001b[0m\u001b[0;34m\u001b[0m\u001b[0;34m\u001b[0m\u001b[0m\n\u001b[1;32m      2\u001b[0m \u001b[0;32mfor\u001b[0m \u001b[0mfile\u001b[0m \u001b[0;32min\u001b[0m \u001b[0mmatching_files\u001b[0m\u001b[0;34m:\u001b[0m\u001b[0;34m\u001b[0m\u001b[0;34m\u001b[0m\u001b[0m\n\u001b[0;32m----> 3\u001b[0;31m     \u001b[0msheet\u001b[0m \u001b[0;34m=\u001b[0m \u001b[0mpd\u001b[0m\u001b[0;34m.\u001b[0m\u001b[0mread_excel\u001b[0m\u001b[0;34m(\u001b[0m\u001b[0mdir\u001b[0m\u001b[0;34m+\u001b[0m\u001b[0mfile\u001b[0m\u001b[0;34m,\u001b[0m \u001b[0msheet_name\u001b[0m\u001b[0;34m=\u001b[0m\u001b[0;32mNone\u001b[0m\u001b[0;34m)\u001b[0m\u001b[0;34m\u001b[0m\u001b[0;34m\u001b[0m\u001b[0m\n\u001b[0m\u001b[1;32m      4\u001b[0m     \u001b[0mdata\u001b[0m\u001b[0;34m[\u001b[0m\u001b[0mfile\u001b[0m\u001b[0;34m]\u001b[0m \u001b[0;34m=\u001b[0m \u001b[0msheet\u001b[0m\u001b[0;34m\u001b[0m\u001b[0;34m\u001b[0m\u001b[0m\n",
      "\u001b[0;32m~/opt/anaconda3/lib/python3.7/site-packages/pandas/util/_decorators.py\u001b[0m in \u001b[0;36mwrapper\u001b[0;34m(*args, **kwargs)\u001b[0m\n\u001b[1;32m    297\u001b[0m                 )\n\u001b[1;32m    298\u001b[0m                 \u001b[0mwarnings\u001b[0m\u001b[0;34m.\u001b[0m\u001b[0mwarn\u001b[0m\u001b[0;34m(\u001b[0m\u001b[0mmsg\u001b[0m\u001b[0;34m,\u001b[0m \u001b[0mFutureWarning\u001b[0m\u001b[0;34m,\u001b[0m \u001b[0mstacklevel\u001b[0m\u001b[0;34m=\u001b[0m\u001b[0mstacklevel\u001b[0m\u001b[0;34m)\u001b[0m\u001b[0;34m\u001b[0m\u001b[0;34m\u001b[0m\u001b[0m\n\u001b[0;32m--> 299\u001b[0;31m             \u001b[0;32mreturn\u001b[0m \u001b[0mfunc\u001b[0m\u001b[0;34m(\u001b[0m\u001b[0;34m*\u001b[0m\u001b[0margs\u001b[0m\u001b[0;34m,\u001b[0m \u001b[0;34m**\u001b[0m\u001b[0mkwargs\u001b[0m\u001b[0;34m)\u001b[0m\u001b[0;34m\u001b[0m\u001b[0;34m\u001b[0m\u001b[0m\n\u001b[0m\u001b[1;32m    300\u001b[0m \u001b[0;34m\u001b[0m\u001b[0m\n\u001b[1;32m    301\u001b[0m         \u001b[0;32mreturn\u001b[0m \u001b[0mwrapper\u001b[0m\u001b[0;34m\u001b[0m\u001b[0;34m\u001b[0m\u001b[0m\n",
      "\u001b[0;32m~/opt/anaconda3/lib/python3.7/site-packages/pandas/io/excel/_base.py\u001b[0m in \u001b[0;36mread_excel\u001b[0;34m(io, sheet_name, header, names, index_col, usecols, squeeze, dtype, engine, converters, true_values, false_values, skiprows, nrows, na_values, keep_default_na, na_filter, verbose, parse_dates, date_parser, thousands, comment, skipfooter, convert_float, mangle_dupe_cols, storage_options)\u001b[0m\n\u001b[1;32m    365\u001b[0m             \u001b[0mskipfooter\u001b[0m\u001b[0;34m=\u001b[0m\u001b[0mskipfooter\u001b[0m\u001b[0;34m,\u001b[0m\u001b[0;34m\u001b[0m\u001b[0;34m\u001b[0m\u001b[0m\n\u001b[1;32m    366\u001b[0m             \u001b[0mconvert_float\u001b[0m\u001b[0;34m=\u001b[0m\u001b[0mconvert_float\u001b[0m\u001b[0;34m,\u001b[0m\u001b[0;34m\u001b[0m\u001b[0;34m\u001b[0m\u001b[0m\n\u001b[0;32m--> 367\u001b[0;31m             \u001b[0mmangle_dupe_cols\u001b[0m\u001b[0;34m=\u001b[0m\u001b[0mmangle_dupe_cols\u001b[0m\u001b[0;34m,\u001b[0m\u001b[0;34m\u001b[0m\u001b[0;34m\u001b[0m\u001b[0m\n\u001b[0m\u001b[1;32m    368\u001b[0m         )\n\u001b[1;32m    369\u001b[0m     \u001b[0;32mfinally\u001b[0m\u001b[0;34m:\u001b[0m\u001b[0;34m\u001b[0m\u001b[0;34m\u001b[0m\u001b[0m\n",
      "\u001b[0;32m~/opt/anaconda3/lib/python3.7/site-packages/pandas/io/excel/_base.py\u001b[0m in \u001b[0;36mparse\u001b[0;34m(self, sheet_name, header, names, index_col, usecols, squeeze, converters, true_values, false_values, skiprows, nrows, na_values, parse_dates, date_parser, thousands, comment, skipfooter, convert_float, mangle_dupe_cols, **kwds)\u001b[0m\n\u001b[1;32m   1188\u001b[0m             \u001b[0mconvert_float\u001b[0m\u001b[0;34m=\u001b[0m\u001b[0mconvert_float\u001b[0m\u001b[0;34m,\u001b[0m\u001b[0;34m\u001b[0m\u001b[0;34m\u001b[0m\u001b[0m\n\u001b[1;32m   1189\u001b[0m             \u001b[0mmangle_dupe_cols\u001b[0m\u001b[0;34m=\u001b[0m\u001b[0mmangle_dupe_cols\u001b[0m\u001b[0;34m,\u001b[0m\u001b[0;34m\u001b[0m\u001b[0;34m\u001b[0m\u001b[0m\n\u001b[0;32m-> 1190\u001b[0;31m             \u001b[0;34m**\u001b[0m\u001b[0mkwds\u001b[0m\u001b[0;34m,\u001b[0m\u001b[0;34m\u001b[0m\u001b[0;34m\u001b[0m\u001b[0m\n\u001b[0m\u001b[1;32m   1191\u001b[0m         )\n\u001b[1;32m   1192\u001b[0m \u001b[0;34m\u001b[0m\u001b[0m\n",
      "\u001b[0;32m~/opt/anaconda3/lib/python3.7/site-packages/pandas/io/excel/_base.py\u001b[0m in \u001b[0;36mparse\u001b[0;34m(self, sheet_name, header, names, index_col, usecols, squeeze, dtype, true_values, false_values, skiprows, nrows, na_values, verbose, parse_dates, date_parser, thousands, comment, skipfooter, convert_float, mangle_dupe_cols, **kwds)\u001b[0m\n\u001b[1;32m    490\u001b[0m                 \u001b[0msheet\u001b[0m \u001b[0;34m=\u001b[0m \u001b[0mself\u001b[0m\u001b[0;34m.\u001b[0m\u001b[0mget_sheet_by_index\u001b[0m\u001b[0;34m(\u001b[0m\u001b[0masheetname\u001b[0m\u001b[0;34m)\u001b[0m\u001b[0;34m\u001b[0m\u001b[0;34m\u001b[0m\u001b[0m\n\u001b[1;32m    491\u001b[0m \u001b[0;34m\u001b[0m\u001b[0m\n\u001b[0;32m--> 492\u001b[0;31m             \u001b[0mdata\u001b[0m \u001b[0;34m=\u001b[0m \u001b[0mself\u001b[0m\u001b[0;34m.\u001b[0m\u001b[0mget_sheet_data\u001b[0m\u001b[0;34m(\u001b[0m\u001b[0msheet\u001b[0m\u001b[0;34m,\u001b[0m \u001b[0mconvert_float\u001b[0m\u001b[0;34m)\u001b[0m\u001b[0;34m\u001b[0m\u001b[0;34m\u001b[0m\u001b[0m\n\u001b[0m\u001b[1;32m    493\u001b[0m             \u001b[0musecols\u001b[0m \u001b[0;34m=\u001b[0m \u001b[0mmaybe_convert_usecols\u001b[0m\u001b[0;34m(\u001b[0m\u001b[0musecols\u001b[0m\u001b[0;34m)\u001b[0m\u001b[0;34m\u001b[0m\u001b[0;34m\u001b[0m\u001b[0m\n\u001b[1;32m    494\u001b[0m \u001b[0;34m\u001b[0m\u001b[0m\n",
      "\u001b[0;32m~/opt/anaconda3/lib/python3.7/site-packages/pandas/io/excel/_openpyxl.py\u001b[0m in \u001b[0;36mget_sheet_data\u001b[0;34m(self, sheet, convert_float)\u001b[0m\n\u001b[1;32m    546\u001b[0m         \u001b[0mdata\u001b[0m\u001b[0;34m:\u001b[0m \u001b[0mList\u001b[0m\u001b[0;34m[\u001b[0m\u001b[0mList\u001b[0m\u001b[0;34m[\u001b[0m\u001b[0mScalar\u001b[0m\u001b[0;34m]\u001b[0m\u001b[0;34m]\u001b[0m \u001b[0;34m=\u001b[0m \u001b[0;34m[\u001b[0m\u001b[0;34m]\u001b[0m\u001b[0;34m\u001b[0m\u001b[0;34m\u001b[0m\u001b[0m\n\u001b[1;32m    547\u001b[0m         \u001b[0mlast_row_with_data\u001b[0m \u001b[0;34m=\u001b[0m \u001b[0;34m-\u001b[0m\u001b[0;36m1\u001b[0m\u001b[0;34m\u001b[0m\u001b[0;34m\u001b[0m\u001b[0m\n\u001b[0;32m--> 548\u001b[0;31m         \u001b[0;32mfor\u001b[0m \u001b[0mrow_number\u001b[0m\u001b[0;34m,\u001b[0m \u001b[0mrow\u001b[0m \u001b[0;32min\u001b[0m \u001b[0menumerate\u001b[0m\u001b[0;34m(\u001b[0m\u001b[0msheet\u001b[0m\u001b[0;34m.\u001b[0m\u001b[0mrows\u001b[0m\u001b[0;34m)\u001b[0m\u001b[0;34m:\u001b[0m\u001b[0;34m\u001b[0m\u001b[0;34m\u001b[0m\u001b[0m\n\u001b[0m\u001b[1;32m    549\u001b[0m             \u001b[0mconverted_row\u001b[0m \u001b[0;34m=\u001b[0m \u001b[0;34m[\u001b[0m\u001b[0mself\u001b[0m\u001b[0;34m.\u001b[0m\u001b[0m_convert_cell\u001b[0m\u001b[0;34m(\u001b[0m\u001b[0mcell\u001b[0m\u001b[0;34m,\u001b[0m \u001b[0mconvert_float\u001b[0m\u001b[0;34m)\u001b[0m \u001b[0;32mfor\u001b[0m \u001b[0mcell\u001b[0m \u001b[0;32min\u001b[0m \u001b[0mrow\u001b[0m\u001b[0;34m]\u001b[0m\u001b[0;34m\u001b[0m\u001b[0;34m\u001b[0m\u001b[0m\n\u001b[1;32m    550\u001b[0m             \u001b[0;32mif\u001b[0m \u001b[0;32mnot\u001b[0m \u001b[0mall\u001b[0m\u001b[0;34m(\u001b[0m\u001b[0mcell\u001b[0m \u001b[0;34m==\u001b[0m \u001b[0;34m\"\"\u001b[0m \u001b[0;32mfor\u001b[0m \u001b[0mcell\u001b[0m \u001b[0;32min\u001b[0m \u001b[0mconverted_row\u001b[0m\u001b[0;34m)\u001b[0m\u001b[0;34m:\u001b[0m\u001b[0;34m\u001b[0m\u001b[0;34m\u001b[0m\u001b[0m\n",
      "\u001b[0;32m~/opt/anaconda3/lib/python3.7/site-packages/openpyxl/worksheet/_read_only.py\u001b[0m in \u001b[0;36m_cells_by_row\u001b[0;34m(self, min_col, min_row, max_col, max_row, values_only)\u001b[0m\n\u001b[1;32m     77\u001b[0m                                  \u001b[0mdata_only\u001b[0m\u001b[0;34m=\u001b[0m\u001b[0mself\u001b[0m\u001b[0;34m.\u001b[0m\u001b[0mparent\u001b[0m\u001b[0;34m.\u001b[0m\u001b[0mdata_only\u001b[0m\u001b[0;34m,\u001b[0m \u001b[0mepoch\u001b[0m\u001b[0;34m=\u001b[0m\u001b[0mself\u001b[0m\u001b[0;34m.\u001b[0m\u001b[0mparent\u001b[0m\u001b[0;34m.\u001b[0m\u001b[0mepoch\u001b[0m\u001b[0;34m,\u001b[0m\u001b[0;34m\u001b[0m\u001b[0;34m\u001b[0m\u001b[0m\n\u001b[1;32m     78\u001b[0m                                  date_formats=self.parent._date_formats)\n\u001b[0;32m---> 79\u001b[0;31m         \u001b[0;32mfor\u001b[0m \u001b[0midx\u001b[0m\u001b[0;34m,\u001b[0m \u001b[0mrow\u001b[0m \u001b[0;32min\u001b[0m \u001b[0mparser\u001b[0m\u001b[0;34m.\u001b[0m\u001b[0mparse\u001b[0m\u001b[0;34m(\u001b[0m\u001b[0;34m)\u001b[0m\u001b[0;34m:\u001b[0m\u001b[0;34m\u001b[0m\u001b[0;34m\u001b[0m\u001b[0m\n\u001b[0m\u001b[1;32m     80\u001b[0m             \u001b[0;32mif\u001b[0m \u001b[0mmax_row\u001b[0m \u001b[0;32mis\u001b[0m \u001b[0;32mnot\u001b[0m \u001b[0;32mNone\u001b[0m \u001b[0;32mand\u001b[0m \u001b[0midx\u001b[0m \u001b[0;34m>\u001b[0m \u001b[0mmax_row\u001b[0m\u001b[0;34m:\u001b[0m\u001b[0;34m\u001b[0m\u001b[0;34m\u001b[0m\u001b[0m\n\u001b[1;32m     81\u001b[0m                 \u001b[0;32mbreak\u001b[0m\u001b[0;34m\u001b[0m\u001b[0;34m\u001b[0m\u001b[0m\n",
      "\u001b[0;32m~/opt/anaconda3/lib/python3.7/site-packages/openpyxl/worksheet/_reader.py\u001b[0m in \u001b[0;36mparse\u001b[0;34m(self)\u001b[0m\n\u001b[1;32m    142\u001b[0m         \u001b[0mit\u001b[0m \u001b[0;34m=\u001b[0m \u001b[0miterparse\u001b[0m\u001b[0;34m(\u001b[0m\u001b[0mself\u001b[0m\u001b[0;34m.\u001b[0m\u001b[0msource\u001b[0m\u001b[0;34m)\u001b[0m \u001b[0;31m# add a finaliser to close the source when this becomes possible\u001b[0m\u001b[0;34m\u001b[0m\u001b[0;34m\u001b[0m\u001b[0m\n\u001b[1;32m    143\u001b[0m \u001b[0;34m\u001b[0m\u001b[0m\n\u001b[0;32m--> 144\u001b[0;31m         \u001b[0;32mfor\u001b[0m \u001b[0m_\u001b[0m\u001b[0;34m,\u001b[0m \u001b[0melement\u001b[0m \u001b[0;32min\u001b[0m \u001b[0mit\u001b[0m\u001b[0;34m:\u001b[0m\u001b[0;34m\u001b[0m\u001b[0;34m\u001b[0m\u001b[0m\n\u001b[0m\u001b[1;32m    145\u001b[0m             \u001b[0mtag_name\u001b[0m \u001b[0;34m=\u001b[0m \u001b[0melement\u001b[0m\u001b[0;34m.\u001b[0m\u001b[0mtag\u001b[0m\u001b[0;34m\u001b[0m\u001b[0;34m\u001b[0m\u001b[0m\n\u001b[1;32m    146\u001b[0m             \u001b[0;32mif\u001b[0m \u001b[0mtag_name\u001b[0m \u001b[0;32min\u001b[0m \u001b[0mdispatcher\u001b[0m\u001b[0;34m:\u001b[0m\u001b[0;34m\u001b[0m\u001b[0;34m\u001b[0m\u001b[0m\n",
      "\u001b[0;32m~/opt/anaconda3/lib/python3.7/xml/etree/ElementTree.py\u001b[0m in \u001b[0;36miterator\u001b[0;34m()\u001b[0m\n\u001b[1;32m   1225\u001b[0m                 \u001b[0;32mif\u001b[0m \u001b[0;32mnot\u001b[0m \u001b[0mdata\u001b[0m\u001b[0;34m:\u001b[0m\u001b[0;34m\u001b[0m\u001b[0;34m\u001b[0m\u001b[0m\n\u001b[1;32m   1226\u001b[0m                     \u001b[0;32mbreak\u001b[0m\u001b[0;34m\u001b[0m\u001b[0;34m\u001b[0m\u001b[0m\n\u001b[0;32m-> 1227\u001b[0;31m                 \u001b[0mpullparser\u001b[0m\u001b[0;34m.\u001b[0m\u001b[0mfeed\u001b[0m\u001b[0;34m(\u001b[0m\u001b[0mdata\u001b[0m\u001b[0;34m)\u001b[0m\u001b[0;34m\u001b[0m\u001b[0;34m\u001b[0m\u001b[0m\n\u001b[0m\u001b[1;32m   1228\u001b[0m             \u001b[0mroot\u001b[0m \u001b[0;34m=\u001b[0m \u001b[0mpullparser\u001b[0m\u001b[0;34m.\u001b[0m\u001b[0m_close_and_return_root\u001b[0m\u001b[0;34m(\u001b[0m\u001b[0;34m)\u001b[0m\u001b[0;34m\u001b[0m\u001b[0;34m\u001b[0m\u001b[0m\n\u001b[1;32m   1229\u001b[0m             \u001b[0;32myield\u001b[0m \u001b[0;32mfrom\u001b[0m \u001b[0mpullparser\u001b[0m\u001b[0;34m.\u001b[0m\u001b[0mread_events\u001b[0m\u001b[0;34m(\u001b[0m\u001b[0;34m)\u001b[0m\u001b[0;34m\u001b[0m\u001b[0;34m\u001b[0m\u001b[0m\n",
      "\u001b[0;32m~/opt/anaconda3/lib/python3.7/xml/etree/ElementTree.py\u001b[0m in \u001b[0;36mfeed\u001b[0;34m(self, data)\u001b[0m\n\u001b[1;32m   1267\u001b[0m         \u001b[0;32mif\u001b[0m \u001b[0mdata\u001b[0m\u001b[0;34m:\u001b[0m\u001b[0;34m\u001b[0m\u001b[0;34m\u001b[0m\u001b[0m\n\u001b[1;32m   1268\u001b[0m             \u001b[0;32mtry\u001b[0m\u001b[0;34m:\u001b[0m\u001b[0;34m\u001b[0m\u001b[0;34m\u001b[0m\u001b[0m\n\u001b[0;32m-> 1269\u001b[0;31m                 \u001b[0mself\u001b[0m\u001b[0;34m.\u001b[0m\u001b[0m_parser\u001b[0m\u001b[0;34m.\u001b[0m\u001b[0mfeed\u001b[0m\u001b[0;34m(\u001b[0m\u001b[0mdata\u001b[0m\u001b[0;34m)\u001b[0m\u001b[0;34m\u001b[0m\u001b[0;34m\u001b[0m\u001b[0m\n\u001b[0m\u001b[1;32m   1270\u001b[0m             \u001b[0;32mexcept\u001b[0m \u001b[0mSyntaxError\u001b[0m \u001b[0;32mas\u001b[0m \u001b[0mexc\u001b[0m\u001b[0;34m:\u001b[0m\u001b[0;34m\u001b[0m\u001b[0;34m\u001b[0m\u001b[0m\n\u001b[1;32m   1271\u001b[0m                 \u001b[0mself\u001b[0m\u001b[0;34m.\u001b[0m\u001b[0m_events_queue\u001b[0m\u001b[0;34m.\u001b[0m\u001b[0mappend\u001b[0m\u001b[0;34m(\u001b[0m\u001b[0mexc\u001b[0m\u001b[0;34m)\u001b[0m\u001b[0;34m\u001b[0m\u001b[0;34m\u001b[0m\u001b[0m\n",
      "\u001b[0;32m~/opt/anaconda3/lib/python3.7/xml/etree/ElementTree.py\u001b[0m in \u001b[0;36mfeed\u001b[0;34m(self, data)\u001b[0m\n\u001b[1;32m   1628\u001b[0m         \u001b[0;34m\"\"\"Feed encoded data to parser.\"\"\"\u001b[0m\u001b[0;34m\u001b[0m\u001b[0;34m\u001b[0m\u001b[0m\n\u001b[1;32m   1629\u001b[0m         \u001b[0;32mtry\u001b[0m\u001b[0;34m:\u001b[0m\u001b[0;34m\u001b[0m\u001b[0;34m\u001b[0m\u001b[0m\n\u001b[0;32m-> 1630\u001b[0;31m             \u001b[0mself\u001b[0m\u001b[0;34m.\u001b[0m\u001b[0mparser\u001b[0m\u001b[0;34m.\u001b[0m\u001b[0mParse\u001b[0m\u001b[0;34m(\u001b[0m\u001b[0mdata\u001b[0m\u001b[0;34m,\u001b[0m \u001b[0;36m0\u001b[0m\u001b[0;34m)\u001b[0m\u001b[0;34m\u001b[0m\u001b[0;34m\u001b[0m\u001b[0m\n\u001b[0m\u001b[1;32m   1631\u001b[0m         \u001b[0;32mexcept\u001b[0m \u001b[0mself\u001b[0m\u001b[0;34m.\u001b[0m\u001b[0m_error\u001b[0m \u001b[0;32mas\u001b[0m \u001b[0mv\u001b[0m\u001b[0;34m:\u001b[0m\u001b[0;34m\u001b[0m\u001b[0;34m\u001b[0m\u001b[0m\n\u001b[1;32m   1632\u001b[0m             \u001b[0mself\u001b[0m\u001b[0;34m.\u001b[0m\u001b[0m_raiseerror\u001b[0m\u001b[0;34m(\u001b[0m\u001b[0mv\u001b[0m\u001b[0;34m)\u001b[0m\u001b[0;34m\u001b[0m\u001b[0;34m\u001b[0m\u001b[0m\n",
      "\u001b[0;32m/opt/concourse/worker/volumes/live/9aff82e7-2788-4197-77c3-98b774c7acc3/volume/python_1614362349442/work/Modules/pyexpat.c\u001b[0m in \u001b[0;36mEndElement\u001b[0;34m()\u001b[0m\n",
      "\u001b[0;32m~/opt/anaconda3/lib/python3.7/xml/etree/ElementTree.py\u001b[0m in \u001b[0;36mhandler\u001b[0;34m(tag, event, append, end)\u001b[0m\n\u001b[1;32m   1512\u001b[0m                 def handler(tag, event=event_name, append=append,\n\u001b[1;32m   1513\u001b[0m                             end=self._end):\n\u001b[0;32m-> 1514\u001b[0;31m                     \u001b[0mappend\u001b[0m\u001b[0;34m(\u001b[0m\u001b[0;34m(\u001b[0m\u001b[0mevent\u001b[0m\u001b[0;34m,\u001b[0m \u001b[0mend\u001b[0m\u001b[0;34m(\u001b[0m\u001b[0mtag\u001b[0m\u001b[0;34m)\u001b[0m\u001b[0;34m)\u001b[0m\u001b[0;34m)\u001b[0m\u001b[0;34m\u001b[0m\u001b[0;34m\u001b[0m\u001b[0m\n\u001b[0m\u001b[1;32m   1515\u001b[0m                 \u001b[0mparser\u001b[0m\u001b[0;34m.\u001b[0m\u001b[0mEndElementHandler\u001b[0m \u001b[0;34m=\u001b[0m \u001b[0mhandler\u001b[0m\u001b[0;34m\u001b[0m\u001b[0;34m\u001b[0m\u001b[0m\n\u001b[1;32m   1516\u001b[0m             \u001b[0;32melif\u001b[0m \u001b[0mevent_name\u001b[0m \u001b[0;34m==\u001b[0m \u001b[0;34m\"start-ns\"\u001b[0m\u001b[0;34m:\u001b[0m\u001b[0;34m\u001b[0m\u001b[0;34m\u001b[0m\u001b[0m\n",
      "\u001b[0;32m~/opt/anaconda3/lib/python3.7/xml/etree/ElementTree.py\u001b[0m in \u001b[0;36m_end\u001b[0;34m(self, tag)\u001b[0m\n\u001b[1;32m   1555\u001b[0m \u001b[0;34m\u001b[0m\u001b[0m\n\u001b[1;32m   1556\u001b[0m     \u001b[0;32mdef\u001b[0m \u001b[0m_end\u001b[0m\u001b[0;34m(\u001b[0m\u001b[0mself\u001b[0m\u001b[0;34m,\u001b[0m \u001b[0mtag\u001b[0m\u001b[0;34m)\u001b[0m\u001b[0;34m:\u001b[0m\u001b[0;34m\u001b[0m\u001b[0;34m\u001b[0m\u001b[0m\n\u001b[0;32m-> 1557\u001b[0;31m         \u001b[0;32mreturn\u001b[0m \u001b[0mself\u001b[0m\u001b[0;34m.\u001b[0m\u001b[0mtarget\u001b[0m\u001b[0;34m.\u001b[0m\u001b[0mend\u001b[0m\u001b[0;34m(\u001b[0m\u001b[0mself\u001b[0m\u001b[0;34m.\u001b[0m\u001b[0m_fixname\u001b[0m\u001b[0;34m(\u001b[0m\u001b[0mtag\u001b[0m\u001b[0;34m)\u001b[0m\u001b[0;34m)\u001b[0m\u001b[0;34m\u001b[0m\u001b[0;34m\u001b[0m\u001b[0m\n\u001b[0m\u001b[1;32m   1558\u001b[0m \u001b[0;34m\u001b[0m\u001b[0m\n\u001b[1;32m   1559\u001b[0m     \u001b[0;32mdef\u001b[0m \u001b[0m_default\u001b[0m\u001b[0;34m(\u001b[0m\u001b[0mself\u001b[0m\u001b[0;34m,\u001b[0m \u001b[0mtext\u001b[0m\u001b[0;34m)\u001b[0m\u001b[0;34m:\u001b[0m\u001b[0;34m\u001b[0m\u001b[0;34m\u001b[0m\u001b[0m\n",
      "\u001b[0;31mKeyboardInterrupt\u001b[0m: "
     ]
    }
   ],
   "metadata": {}
  },
  {
   "cell_type": "code",
   "execution_count": 30,
   "source": [
    "rt_1 =  [[2, 2, 2, 2],[0, 0, 1, 1],[1, 1, 1, 1],[1, 1, 1, 1],[1, 1, 1, 1]] #%- subject 1 - 5 tasks - [sensor 1, sensor 2, sensor 3, sensor 4] ratings - first 2 sensors for right side - last 2 sensors for left side - experiment start with right side and then do the left side \n",
    "rt_2 =  [[1, 1, 1, 1],[1, 1, 0, 0],[3, 3, 1, 1],[1, 1, 2, 2],[1, 1, 0, 0]]\n",
    "rt_3 =  [[1, 1, 2, 2],[0, 0, 0, 0],[0, 0, 1, 1],[1, 1, 1, 1],[1, 1, 0, 0]]\n",
    "rt_4 =  [[3, 3, 3, 3],[3, 3, 3, 3],[3, 3, 3, 3],[3, 3, 4, 4],[3, 3, 4, 4]]\n",
    "rt_5 =  [[2, 2, 3, 3],[1, 1, 2, 2],[0, 0, 1, 1],[9, 9, 9, 9],[9, 9, 9, 9]]\n",
    "rt_6 =  [[1, 1, 2, 2],[0, 0, 0, 0],[1, 1, 0, 0],[2, 2, 3, 3],[1, 1, 1, 1]]\n",
    "rt_7 =  [[2, 2, 3, 3],[1, 1, 1, 1],[2, 2, 3, 3],[1, 1, 2, 2],[1, 1, 2, 2]]\n",
    "rt_8 =  [[1, 1, 2, 2],[1, 1, 2, 2],[1, 1, 2, 2],[1, 1, 1, 1],[0, 0, 1, 1]]\n",
    "rt_9 =  [[3, 3, 4, 4],[3, 3, 4, 4],[1, 1, 3, 3],[4, 4, 4, 4],[4, 4, 4, 4]]\n",
    "rt_10 = [[1, 1, 1, 1],[2, 2, 1, 1],[1, 1, 1, 1],[1, 1, 1, 1],[1, 1, 1, 1]]\n",
    "rt_11 = [[1, 1, 1, 1],[1, 1, 2, 2],[1, 1, 2, 2],[1, 1, 2, 2],[1, 1, 1, 1]]\n",
    "rt_12 = [[3, 3, 1, 1],[2, 2, 1, 1],[2, 2, 2, 2],[4, 4, 1, 1],[1, 1, 1, 1]]\n",
    "rt_13 = [[1, 1, 2, 2],[1, 1, 2, 2],[1, 1, 2, 2],[1, 1, 1, 1],[2, 2, 1, 1]]\n",
    "rt_14 = [[3, 3, 3, 3],[2, 2, 3, 3],[3, 3, 4, 4],[9, 9, 9, 9],[9, 9, 9, 9]]\n",
    "rt_15 = [[1, 1, 2, 2],[1, 1, 1, 1],[1, 1, 1, 1],[2, 2, 2, 2],[0, 0, 1, 1]]\n",
    "rt_17 = [[1, 1, 1, 1],[0, 0, 1, 1],[1, 1, 1, 1],[3, 3, 4, 4],[0, 0, 1, 1]]\n",
    "rt_18 = [[3, 3, 3, 3],[3, 3, 3, 3],[3, 3, 3, 3],[3, 3, 3, 3],[2, 2, 3, 3]]\n",
    "rt_19 = [[1, 1, 2, 2],[1, 1, 2, 2],[2, 2, 2, 2],[1, 1, 1, 1],[1, 1, 1, 1]]\n",
    "rt_20 = [[0, 0, 1, 1],[1, 1, 0, 0],[0, 0, 0, 0],[0, 0, 0, 0],[0, 0, 0, 0]] \n",
    "rt_21 = [[3, 3, 3, 3],[3, 3, 3, 3],[3, 3, 2, 2],[2, 2, 3, 3],[3, 3, 2, 2]]\n",
    "rt_22 = [[3, 3, 3, 3],[3, 3, 3, 3],[3, 3, 3, 3],[3, 3, 3, 3],[3, 3, 3, 3]]\n",
    "rt_23 = [[2, 2, 2, 2],[2, 2, 1, 1],[1, 1, 1, 1],[2, 2, 2, 2],[1, 1, 0, 0]]\n",
    "rt_24 = [[1, 1, 1, 1],[0, 0, 1, 1],[1, 1, 1, 1],[1, 1, 1, 1],[0, 0, 0, 0]] \n",
    "rt_25 = [[1, 1, 1, 1],[1, 1, 1, 1],[1, 1, 1, 1],[1, 1, 1, 1],[1, 1, 2, 2]]\n",
    "rt_26 = [[0, 0, 2, 2],[0, 0, 0, 0],[0, 0, 1, 1],[0, 0, 0, 0],[0, 0, 0, 0]]\n",
    "rt_27 = [[0, 0, 1, 1],[1, 1, 1, 1],[0, 0, 0, 0],[1, 1, 1, 1],[0, 0, 0, 0]]\n",
    "rt_28 = [[1, 1, 0, 0],[2, 2, 1, 1],[1, 1, 1, 1],[1, 1, 1, 1],[0, 0, 0, 0]]\n",
    "rt_29 = [[2, 2, 3, 3],[2, 2, 2, 2],[0, 0, 0, 0],[2, 2, 2, 2],[2, 2, 2, 2]]\n",
    "rt_30 = [[0, 0, 2, 2],[1, 1, 1, 1],[0, 0, 1, 1],[1, 1, 2, 2],[0, 0, 1, 1]]\n",
    "\n",
    "rt = [rt_1, rt_2, rt_3, rt_4, rt_5, rt_6, rt_7, rt_8, rt_9, rt_10, \n",
    "    rt_11, rt_12, rt_13, rt_14, rt_15, rt_17, rt_18, rt_19, rt_20, \n",
    "    rt_21, rt_22, rt_23, rt_24, rt_25, rt_26, rt_27, rt_28, rt_29, rt_30]\n",
    "\n",
    "r_rt_1 =  [[2, 2, 3, 3],[1, 1, 2, 2],[1, 1, 2, 2],[2, 2, 2, 2],[0, 0, 1, 1]]\n",
    "r_rt_3 =  [[2, 2, 2, 2],[0, 0, 0, 0],[0, 0, 1, 1],[2, 2, 2, 2],[1, 1, 1, 1]]\n",
    "r_rt_6 =  [[1, 1, 2, 2],[0, 0, 1, 1],[0, 0, 1, 1],[1, 1, 3, 3],[1, 1, 1, 1]]\n",
    "r_rt_10 = [[1, 1, 1, 1],[1, 1, 0, 0],[1, 1, 1, 1],[1, 1, 1, 1],[1, 1, 1, 1]]\n",
    "r_rt_11 = [[1, 1, 3, 3],[2, 2, 2, 2],[1, 1, 2, 2],[3, 3, 3, 3],[1, 1, 1, 1]]\n",
    "r_rt_13 = [[3, 3, 3, 3],[3, 3, 3, 3],[2, 2, 3, 3],[1, 1, 3, 3],[0, 0, 3, 3]]\n",
    "r_rt_14 = [[2, 2, 4, 4],[1, 1, 1, 1],[0, 0, 0, 0],[2, 2, 2, 2],[2, 2, 2, 2]]\n",
    "r_rt_15 = [[9, 9, 9, 9],[9, 9, 9, 9],[0, 0, 0, 0],[9, 9, 9, 9],[9, 9, 9, 9]]\n",
    "r_rt_19 = [[2, 2, 3, 3],[3, 3, 3, 3],[0, 0, 1, 1],[0, 0, 1, 1],[0, 0, 1, 1]]\n",
    "r_rt_20 = [[0, 0, 1, 1],[0, 0, 0, 0],[0, 0, 1, 1],[0, 0, 1, 1],[0, 0, 1, 1]]\n",
    "r_rt_22 = [[3, 3, 3, 3],[3, 3, 4, 4],[3, 3, 3, 3],[3, 3, 3, 3],[3, 3, 3, 3]]\n",
    "r_rt_23 = [[1, 1, 3, 3],[2, 2, 3, 3],[2, 2, 2, 2],[2, 2, 4, 4],[1, 1, 2, 2]]\n",
    "r_rt_24 = [[0, 0, 1, 1],[0, 0, 0, 0],[0, 0, 0, 0],[1, 1, 1, 1],[1, 1, 1, 1]]\n",
    "r_rt_25 = [[2, 2, 2, 2],[1, 1, 2, 2],[1, 1, 1, 1],[1, 1, 1, 1],[1, 1, 1, 1]]\n",
    "r_rt_26 = [[1, 1, 2, 2],[0, 0, 0, 0],[0, 0, 1, 1],[0, 0, 0, 0],[0, 0, 0, 0]]\n",
    "r_rt_27 = [[0, 0, 1, 1],[0, 0, 1, 1],[0, 0, 0, 0],[1, 1, 1, 1],[0, 0, 1, 1]]\n",
    "r_rt_28 = [[0, 0, 0, 0],[0, 0, 1, 1],[1, 1, 1, 1],[0, 0, 0, 0],[0, 0, 0, 0]]\n",
    "r_rt_29 = [[2, 2, 2, 2],[3, 3, 1, 1],[2, 2, 3, 3],[1, 1, 2, 2],[2, 2, 0, 0]]\n",
    "r_rt_30 = [[0, 0, 2, 2],[1, 1, 1, 1],[0, 0, 1, 1],[2, 2, 2, 2],[0, 0, 1, 1]]\n",
    "\n",
    "r_rt = [r_rt_1, r_rt_3, r_rt_6, r_rt_10, r_rt_11, r_rt_13, r_rt_14, r_rt_15, r_rt_19, r_rt_20, \n",
    "    r_rt_22, r_rt_23, r_rt_24, r_rt_25, r_rt_26, r_rt_27, r_rt_28, r_rt_29, r_rt_30]\n",
    "\n",
    "s_rt = [\"rt_1\", \"rt_2\", \"rt_3\", \"rt_4\", \"rt_5\", \"rt_6\", \"rt_7\", \"rt_8\", \"rt_9\", \"rt_10\",\n",
    "    \"rt_11\", \"rt_12\", \"rt_13\", \"rt_14\", \"rt_15\", \"rt_17\", \"rt_18\", \"rt_19\", \"rt_20\",\n",
    "    \"rt_21\", \"rt_22\", \"rt_23\", \"rt_24\", \"rt_25\", \"rt_26\", \"rt_27\", \"rt_28\", \"rt_29\", \"rt_30\"]\n",
    "\n",
    "s_r_rt = [\"r_rt_1\", \"r_rt_3\", \"r_rt_6\", \"r_rt_10\", \"r_rt_11\", \"r_rt_13\", \"r_rt_14\", \"r_rt_15\", \"r_rt_19\", \"r_rt_20\",\n",
    "    \"r_rt_22\", \"r_rt_23\", \"r_rt_24\", \"r_rt_25\", \"r_rt_26\", \"r_rt_27\", \"r_rt_28\", \"r_rt_29\", \"r_rt_30\"]\n",
    "\n",
    "#[\"_PS_\";\"_HM_\";\"_FT_\";\"_TT_\";\"_LA_\"]"
   ],
   "outputs": [],
   "metadata": {}
  },
  {
   "cell_type": "code",
   "execution_count": 16,
   "source": [
    "test = np.array(rt)\n",
    "rtest = np.array(r_rt)\n",
    "print(test.shape)\n",
    "print(rtest.shape)\n",
    "len(s_)"
   ],
   "outputs": [
    {
     "output_type": "stream",
     "name": "stdout",
     "text": [
      "(29, 5, 4)\n",
      "(19, 5, 4)\n"
     ]
    }
   ],
   "metadata": {}
  },
  {
   "cell_type": "code",
   "execution_count": 35,
   "source": [
    "\n"
   ],
   "outputs": [],
   "metadata": {}
  },
  {
   "cell_type": "code",
   "execution_count": 26,
   "source": [
    "test[0]\n",
    "task_dict = {0:\"PS\", 1:\"HM\", 2:\"FT\", 3:\"TT\", 4:\"LA\"}"
   ],
   "outputs": [],
   "metadata": {}
  },
  {
   "cell_type": "code",
   "execution_count": 41,
   "source": [
    "ll = []\n",
    "for ti, t in enumerate(rt):\n",
    "    for i, v in enumerate(t):\n",
    "        r = [s_rt[ti], \"t\", task_dict[i], \"r\", v[0]]\n",
    "        l = [s_rt[ti], \"t\", task_dict[i], \"l\", v[2]]\n",
    "        ll.append(r)\n",
    "        ll.append(l)\n",
    "for ti, t in enumerate(r_rt):\n",
    "    for i, v in enumerate(t):\n",
    "        r = [s_r_rt[ti], \"rt\", task_dict[i], \"r\", v[0]]\n",
    "        l = [s_r_rt[ti], \"rt\", task_dict[i], \"l\", v[2]]\n",
    "        ll.append(r)\n",
    "        ll.append(l)\n",
    "print(np.array(ll))\n",
    "np.array(ll).shape"
   ],
   "outputs": [
    {
     "output_type": "stream",
     "name": "stdout",
     "text": [
      "[['rt_1' 't' 'PS' 'r' '2']\n",
      " ['rt_1' 't' 'PS' 'l' '2']\n",
      " ['rt_1' 't' 'HM' 'r' '0']\n",
      " ...\n",
      " ['r_rt_30' 'rt' 'TT' 'l' '2']\n",
      " ['r_rt_30' 'rt' 'LA' 'r' '0']\n",
      " ['r_rt_30' 'rt' 'LA' 'l' '1']]\n"
     ]
    },
    {
     "output_type": "execute_result",
     "data": {
      "text/plain": [
       "(480, 5)"
      ]
     },
     "metadata": {},
     "execution_count": 41
    }
   ],
   "metadata": {}
  },
  {
   "cell_type": "code",
   "execution_count": 43,
   "source": [
    "labels = pd.DataFrame(np.array(ll), columns=[\"subject_id\", \"test\", \"task_id\", \"side\", \"label\"])\n",
    "labels.head()\n",
    "labels.to_csv(\"labels.csv\")"
   ],
   "outputs": [],
   "metadata": {}
  },
  {
   "cell_type": "code",
   "execution_count": null,
   "source": [],
   "outputs": [],
   "metadata": {}
  }
 ],
 "metadata": {
  "orig_nbformat": 4,
  "language_info": {
   "name": "python",
   "version": "3.7.10",
   "mimetype": "text/x-python",
   "codemirror_mode": {
    "name": "ipython",
    "version": 3
   },
   "pygments_lexer": "ipython3",
   "nbconvert_exporter": "python",
   "file_extension": ".py"
  },
  "kernelspec": {
   "name": "python3",
   "display_name": "Python 3.7.10 64-bit ('base': conda)"
  },
  "interpreter": {
   "hash": "fd2a4d3e9d5f92c5b52d73e9bfb1e48055dfe0378c67da3f51220970e6a4f3af"
  }
 },
 "nbformat": 4,
 "nbformat_minor": 2
}